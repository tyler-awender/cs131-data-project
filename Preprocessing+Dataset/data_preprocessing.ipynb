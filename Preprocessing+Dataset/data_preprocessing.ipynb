{
 "cells": [
  {
   "cell_type": "code",
   "execution_count": 2,
   "metadata": {
    "_cell_guid": "b1076dfc-b9ad-4769-8c92-a6c4dae69d19",
    "_uuid": "8f2839f25d086af736a60e9eeb907d3b93b6e0e5",
    "execution": {
     "iopub.execute_input": "2024-04-25T07:09:41.418493Z",
     "iopub.status.busy": "2024-04-25T07:09:41.417845Z",
     "iopub.status.idle": "2024-04-25T07:09:42.211714Z",
     "shell.execute_reply": "2024-04-25T07:09:42.210128Z",
     "shell.execute_reply.started": "2024-04-25T07:09:41.418268Z"
    }
   },
   "outputs": [
    {
     "name": "stdout",
     "output_type": "stream",
     "text": [
      "<class 'pandas.core.frame.DataFrame'>\n",
      "Int64Index: 19549 entries, 0 to 20717\n",
      "Data columns (total 23 columns):\n",
      " #   Column            Non-Null Count  Dtype  \n",
      "---  ------            --------------  -----  \n",
      " 0   Unnamed: 0        19549 non-null  int64  \n",
      " 1   Artist            19549 non-null  object \n",
      " 2   Track             19549 non-null  object \n",
      " 3   Album             19549 non-null  object \n",
      " 4   Album_type        19549 non-null  object \n",
      " 5   Danceability      19549 non-null  float64\n",
      " 6   Energy            19549 non-null  float64\n",
      " 7   Key               19549 non-null  float64\n",
      " 8   Loudness          19549 non-null  float64\n",
      " 9   Speechiness       19549 non-null  float64\n",
      " 10  Acousticness      19549 non-null  float64\n",
      " 11  Instrumentalness  19549 non-null  float64\n",
      " 12  Liveness          19549 non-null  float64\n",
      " 13  Valence           19549 non-null  float64\n",
      " 14  Tempo             19549 non-null  float64\n",
      " 15  Duration_ms       19549 non-null  float64\n",
      " 16  Title             19549 non-null  object \n",
      " 17  Channel           19549 non-null  object \n",
      " 18  Views             19549 non-null  float64\n",
      " 19  Likes             19549 non-null  float64\n",
      " 20  Comments          19549 non-null  float64\n",
      " 21  official_video    19549 non-null  object \n",
      " 22  Stream            19549 non-null  float64\n",
      "dtypes: float64(15), int64(1), object(7)\n",
      "memory usage: 3.6+ MB\n",
      "None\n"
     ]
    }
   ],
   "source": [
    "#Author: TS\n",
    "#Cleaned up original Spotify_Youtube.csv to fix column issues due to extra commas\n",
    "import numpy as np # linear algebra\n",
    "import pandas as pd # data processing, CSV file \n",
    "\n",
    "import os\n",
    "for dirname, _, filenames in os.walk('/kaggle/input'):\n",
    "    for filename in filenames:\n",
    "        print(os.path.join(dirname, filename))\n",
    "\n",
    "# Read the CSV file into a DataFrame\n",
    "df = pd.read_csv(\"Spotify_Youtube.csv\")\n",
    "\n",
    "# Drop not needed columns\n",
    "df.drop(['Description', 'Licensed', 'Url_youtube', 'Url_spotify', 'Uri' ], axis=1, inplace=True)\n",
    "df.dropna(axis=0,inplace=True)\n",
    "# drop columns where crucial info is nan\n",
    "filtered_df = df[df['Likes'].notna() & df['Comments'].notna() & df['Stream'].notna() & df['Title'].notna() & df['Danceability'].notna() & df['Valence'].notna()]\n",
    "\n",
    "# Print the result\n",
    "print(filtered_df.info())\n",
    "filtered_df.to_csv(\"New_Spotify_Youtube.csv\", index=False, sep='>')"
   ]
  },
  {
   "cell_type": "code",
   "execution_count": null,
   "metadata": {},
   "outputs": [],
   "source": []
  },
  {
   "cell_type": "code",
   "execution_count": null,
   "metadata": {},
   "outputs": [],
   "source": []
  },
  {
   "cell_type": "code",
   "execution_count": null,
   "metadata": {},
   "outputs": [],
   "source": []
  }
 ],
 "metadata": {
  "kaggle": {
   "accelerator": "none",
   "dataSources": [
    {
     "datasetId": 3025170,
     "sourceId": 5201951,
     "sourceType": "datasetVersion"
    }
   ],
   "dockerImageVersionId": 30702,
   "isGpuEnabled": false,
   "isInternetEnabled": false,
   "language": "python",
   "sourceType": "notebook"
  },
  "kernelspec": {
   "display_name": "Python 3 (ipykernel)",
   "language": "python",
   "name": "python3"
  },
  "language_info": {
   "codemirror_mode": {
    "name": "ipython",
    "version": 3
   },
   "file_extension": ".py",
   "mimetype": "text/x-python",
   "name": "python",
   "nbconvert_exporter": "python",
   "pygments_lexer": "ipython3",
   "version": "3.9.7"
  }
 },
 "nbformat": 4,
 "nbformat_minor": 4
}
